{
  "nbformat": 4,
  "nbformat_minor": 0,
  "metadata": {
    "colab": {
      "provenance": []
    },
    "kernelspec": {
      "name": "python3",
      "display_name": "Python 3"
    },
    "language_info": {
      "name": "python"
    },
    "accelerator": "GPU",
    "gpuClass": "standard"
  },
  "cells": [
    {
      "cell_type": "code",
      "execution_count": 33,
      "metadata": {
        "id": "go1kt84CQJg3"
      },
      "outputs": [],
      "source": [
        "import numpy as np\n",
        "import scipy\n",
        "from scipy import signal\n",
        "import tensorflow as tf"
      ]
    },
    {
      "cell_type": "code",
      "source": [
        "def Deep_attrubute(model_target, X_train):\n",
        "  DeepAttributes = {}\n",
        "  model = tf.keras.Sequential()\n",
        "  k = 0\n",
        "  for layer in model_target.layers[:]:\n",
        "    model.add(layer)\n",
        "    if (layer.name)[:11]=='max_pooling' or (layer.name)[:11]=='up_sampling':\n",
        "      continue\n",
        "    else:\n",
        "      model_ok = tf.keras.Model(inputs=model.inputs, outputs=[model.output])\n",
        "      DeepAttributes['HL'+str(k)] = model_ok.predict(X_train)\n",
        "      k+=1\n",
        "  return DeepAttributes"
      ],
      "metadata": {
        "id": "1wrAQmFJTnwl"
      },
      "execution_count": 34,
      "outputs": []
    },
    {
      "cell_type": "code",
      "source": [
        "X_train = np.load('data/00_marmousi_model.npy')\n",
        "model = tf.keras.models.load_model('model/saved_model')"
      ],
      "metadata": {
        "id": "h96jl7KqTsdF"
      },
      "execution_count": 35,
      "outputs": []
    },
    {
      "cell_type": "code",
      "source": [
        "D_A = Deep_attrubute(model, X_train)"
      ],
      "metadata": {
        "colab": {
          "base_uri": "https://localhost:8080/"
        },
        "id": "bPZ7GngLT4F3",
        "outputId": "3ffd346e-4275-4861-a72d-ce0955aa3b26"
      },
      "execution_count": 36,
      "outputs": [
        {
          "output_type": "stream",
          "name": "stdout",
          "text": [
            "16/16 [==============================] - 0s 1ms/step\n",
            "16/16 [==============================] - 0s 10ms/step\n",
            "16/16 [==============================] - 1s 13ms/step\n",
            "16/16 [==============================] - 1s 15ms/step\n",
            "16/16 [==============================] - 1s 14ms/step\n",
            "16/16 [==============================] - 2s 19ms/step\n",
            "16/16 [==============================] - 2s 22ms/step\n",
            "16/16 [==============================] - 3s 27ms/step\n",
            "16/16 [==============================] - 3s 32ms/step\n",
            "16/16 [==============================] - 3s 35ms/step\n"
          ]
        }
      ]
    },
    {
      "cell_type": "code",
      "source": [
        "# print keys for the dictionary DA\n",
        "print(D_A.keys())"
      ],
      "metadata": {
        "colab": {
          "base_uri": "https://localhost:8080/"
        },
        "id": "4bz08L2dT7I0",
        "outputId": "6d9ecc5d-3a97-452a-f690-a5bcd75a2aa5"
      },
      "execution_count": 37,
      "outputs": [
        {
          "output_type": "stream",
          "name": "stdout",
          "text": [
            "dict_keys(['HL0', 'HL1', 'HL2', 'HL3', 'HL4', 'HL5', 'HL6', 'HL7', 'HL8', 'HL9'])\n"
          ]
        }
      ]
    },
    {
      "cell_type": "code",
      "source": [
        "# print shape of HL0, i.e. input  \n",
        "print(D_A['HL0'].shape)\n",
        "# print shape of HL1, i.e. 1st layer  \n",
        "print(D_A['HL1'].shape)\n",
        "# print shape of HL4, i.e. encoded data <-- note the reduction on the time axis\n",
        "print(D_A['HL4'].shape)\n",
        "# print shape of HL9, i.e. reconstructed output  \n",
        "print(D_A['HL9'].shape)"
      ],
      "metadata": {
        "colab": {
          "base_uri": "https://localhost:8080/"
        },
        "id": "kGwPNE2-UC05",
        "outputId": "b5d98a60-8dae-4ed2-ca1c-c5de5de9176a"
      },
      "execution_count": 39,
      "outputs": [
        {
          "output_type": "stream",
          "name": "stdout",
          "text": [
            "(500, 512, 1)\n",
            "(500, 512, 4)\n",
            "(500, 64, 32)\n",
            "(500, 512, 1)\n"
          ]
        }
      ]
    }
  ]
}